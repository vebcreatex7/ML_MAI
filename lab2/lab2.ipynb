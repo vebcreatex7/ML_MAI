{
  "nbformat": 4,
  "nbformat_minor": 0,
  "metadata": {
    "colab": {
      "name": "lab2.ipynb",
      "provenance": []
    },
    "kernelspec": {
      "name": "python3",
      "display_name": "Python 3"
    },
    "language_info": {
      "name": "python"
    }
  },
  "cells": [
    {
      "cell_type": "code",
      "metadata": {
        "id": "S6UWMQiCmQlz"
      },
      "source": [
        "import pandas as pd\n",
        "import numpy as np\n",
        "import seaborn as sns\n",
        "from sklearn.model_selection import *\n",
        "from sklearn.metrics import *\n",
        "from sklearn.neighbors import KNeighborsClassifier\n",
        "from sklearn.preprocessing import *\n",
        "from sklearn.naive_bayes import *\n",
        "from sklearn.linear_model import LogisticRegression\n",
        "from sklearn.tree import DecisionTreeClassifier\n",
        "import matplotlib.pyplot as plt\n",
        "from sklearn.svm import SVC\n",
        "from sklearn import preprocessing"
      ],
      "execution_count": 48,
      "outputs": []
    },
    {
      "cell_type": "markdown",
      "metadata": {
        "id": "XKbNq-Ffm2Tc"
      },
      "source": [
        "Загружаем данные"
      ]
    },
    {
      "cell_type": "code",
      "metadata": {
        "colab": {
          "base_uri": "https://localhost:8080/"
        },
        "id": "5oV86NWsmlQs",
        "outputId": "2a3af728-7047-459e-de7e-9000a50d875c"
      },
      "source": [
        "from google.colab import drive\n",
        "drive.mount('/content/drive')"
      ],
      "execution_count": 60,
      "outputs": [
        {
          "output_type": "stream",
          "name": "stdout",
          "text": [
            "Drive already mounted at /content/drive; to attempt to forcibly remount, call drive.mount(\"/content/drive\", force_remount=True).\n"
          ]
        }
      ]
    },
    {
      "cell_type": "code",
      "metadata": {
        "colab": {
          "base_uri": "https://localhost:8080/",
          "height": 343
        },
        "id": "-iZ5n9dMmnQw",
        "outputId": "f06879b5-fbb3-46f5-d261-3d14753def63"
      },
      "source": [
        "data_frame = pd.read_csv('/content/drive/MyDrive/Colab Notebooks/adult.csv')\n",
        "data_frame.head()\n"
      ],
      "execution_count": 83,
      "outputs": [
        {
          "output_type": "execute_result",
          "data": {
            "text/html": [
              "<div>\n",
              "<style scoped>\n",
              "    .dataframe tbody tr th:only-of-type {\n",
              "        vertical-align: middle;\n",
              "    }\n",
              "\n",
              "    .dataframe tbody tr th {\n",
              "        vertical-align: top;\n",
              "    }\n",
              "\n",
              "    .dataframe thead th {\n",
              "        text-align: right;\n",
              "    }\n",
              "</style>\n",
              "<table border=\"1\" class=\"dataframe\">\n",
              "  <thead>\n",
              "    <tr style=\"text-align: right;\">\n",
              "      <th></th>\n",
              "      <th>age</th>\n",
              "      <th>workclass</th>\n",
              "      <th>fnlwgt</th>\n",
              "      <th>education</th>\n",
              "      <th>educational-num</th>\n",
              "      <th>marital-status</th>\n",
              "      <th>occupation</th>\n",
              "      <th>relationship</th>\n",
              "      <th>race</th>\n",
              "      <th>gender</th>\n",
              "      <th>capital-gain</th>\n",
              "      <th>capital-loss</th>\n",
              "      <th>hours-per-week</th>\n",
              "      <th>native-country</th>\n",
              "      <th>income</th>\n",
              "    </tr>\n",
              "  </thead>\n",
              "  <tbody>\n",
              "    <tr>\n",
              "      <th>0</th>\n",
              "      <td>25</td>\n",
              "      <td>Private</td>\n",
              "      <td>226802</td>\n",
              "      <td>11th</td>\n",
              "      <td>7</td>\n",
              "      <td>Never-married</td>\n",
              "      <td>Machine-op-inspct</td>\n",
              "      <td>Own-child</td>\n",
              "      <td>Black</td>\n",
              "      <td>Male</td>\n",
              "      <td>0</td>\n",
              "      <td>0</td>\n",
              "      <td>40</td>\n",
              "      <td>United-States</td>\n",
              "      <td>&lt;=50K</td>\n",
              "    </tr>\n",
              "    <tr>\n",
              "      <th>1</th>\n",
              "      <td>38</td>\n",
              "      <td>Private</td>\n",
              "      <td>89814</td>\n",
              "      <td>HS-grad</td>\n",
              "      <td>9</td>\n",
              "      <td>Married-civ-spouse</td>\n",
              "      <td>Farming-fishing</td>\n",
              "      <td>Husband</td>\n",
              "      <td>White</td>\n",
              "      <td>Male</td>\n",
              "      <td>0</td>\n",
              "      <td>0</td>\n",
              "      <td>50</td>\n",
              "      <td>United-States</td>\n",
              "      <td>&lt;=50K</td>\n",
              "    </tr>\n",
              "    <tr>\n",
              "      <th>2</th>\n",
              "      <td>28</td>\n",
              "      <td>Local-gov</td>\n",
              "      <td>336951</td>\n",
              "      <td>Assoc-acdm</td>\n",
              "      <td>12</td>\n",
              "      <td>Married-civ-spouse</td>\n",
              "      <td>Protective-serv</td>\n",
              "      <td>Husband</td>\n",
              "      <td>White</td>\n",
              "      <td>Male</td>\n",
              "      <td>0</td>\n",
              "      <td>0</td>\n",
              "      <td>40</td>\n",
              "      <td>United-States</td>\n",
              "      <td>&gt;50K</td>\n",
              "    </tr>\n",
              "    <tr>\n",
              "      <th>3</th>\n",
              "      <td>44</td>\n",
              "      <td>Private</td>\n",
              "      <td>160323</td>\n",
              "      <td>Some-college</td>\n",
              "      <td>10</td>\n",
              "      <td>Married-civ-spouse</td>\n",
              "      <td>Machine-op-inspct</td>\n",
              "      <td>Husband</td>\n",
              "      <td>Black</td>\n",
              "      <td>Male</td>\n",
              "      <td>7688</td>\n",
              "      <td>0</td>\n",
              "      <td>40</td>\n",
              "      <td>United-States</td>\n",
              "      <td>&gt;50K</td>\n",
              "    </tr>\n",
              "    <tr>\n",
              "      <th>4</th>\n",
              "      <td>18</td>\n",
              "      <td>?</td>\n",
              "      <td>103497</td>\n",
              "      <td>Some-college</td>\n",
              "      <td>10</td>\n",
              "      <td>Never-married</td>\n",
              "      <td>?</td>\n",
              "      <td>Own-child</td>\n",
              "      <td>White</td>\n",
              "      <td>Female</td>\n",
              "      <td>0</td>\n",
              "      <td>0</td>\n",
              "      <td>30</td>\n",
              "      <td>United-States</td>\n",
              "      <td>&lt;=50K</td>\n",
              "    </tr>\n",
              "  </tbody>\n",
              "</table>\n",
              "</div>"
            ],
            "text/plain": [
              "   age  workclass  fnlwgt  ... hours-per-week  native-country income\n",
              "0   25    Private  226802  ...             40   United-States  <=50K\n",
              "1   38    Private   89814  ...             50   United-States  <=50K\n",
              "2   28  Local-gov  336951  ...             40   United-States   >50K\n",
              "3   44    Private  160323  ...             40   United-States   >50K\n",
              "4   18          ?  103497  ...             30   United-States  <=50K\n",
              "\n",
              "[5 rows x 15 columns]"
            ]
          },
          "metadata": {},
          "execution_count": 83
        }
      ]
    },
    {
      "cell_type": "markdown",
      "metadata": {
        "id": "gB24cGaHm4P0"
      },
      "source": [
        "Подготовим данные"
      ]
    },
    {
      "cell_type": "code",
      "metadata": {
        "id": "UwfclgHim6gq"
      },
      "source": [
        "data_frame['workclass'] = data_frame['workclass'].replace('?', np.nan)\n",
        "data_frame['occupation'] = data_frame['occupation'].replace('?', np.nan)\n",
        "data_frame['native-country'] = data_frame['native-country'].replace('?', np.nan)\n",
        "data_frame = data_frame.dropna()\n",
        "\n",
        "# Избавимся от дубликатов\n",
        "\n",
        "data_frame = data_frame.drop_duplicates()\n",
        "data_frame['income']=data_frame['income'].map({'<=50K':0,'>50K':1})\n",
        "# Избавимся от ненужных данных.\n",
        "#1. education. Есть замена - education.num\n",
        "#2. fnlwgt(final weight) - показатель не стандартизирован для разных штатов.\n",
        "#3. relationship - объединяет в себе признаки 'marital-status' и 'gender'.\n",
        "#4. Native-country - в основном состоит из значений 'US'.\n",
        "data_frame = data_frame.drop(['education'], axis=1)\n",
        "data_frame = data_frame.drop(['fnlwgt'], axis=1)\n",
        "data_frame = data_frame.drop(['relationship'], axis=1)\n",
        "data_frame = data_frame.drop(['native-country'], axis=1)\n",
        "data_frame = data_frame.drop(['occupation'], axis=1)\n",
        "# Для построения метрических моделей все признаки должны быть числовыми.\n",
        "\n",
        "race = {'Black' : 0, 'White' : 1, 'Amer-Indian-Eskimo' : 2, 'Asian-Pac-Islander' : 3, 'Other' : 4}\n",
        "data_frame = data_frame.replace({'race' : race})\n",
        "\n",
        "workclass = {'Private' : 0, 'Local-gov' : 1, 'Self-emp-not-inc' : 2, 'Federal-gov' : 3, 'State-gov' : 4, 'Self-emp-inc' : 5, 'Without-pay' : 6}\n",
        "data_frame = data_frame.replace({'workclass' : workclass})\n",
        "\n",
        "gender = {'Male' : 0, 'Female' : 1}\n",
        "data_frame = data_frame.replace({'gender' : gender})\n",
        "# Семейное положение можно разбить на 2 класса.\n",
        "#  Not married = 0, Married = 1\n",
        "ms = {'Never-married' : 0, 'Married-civ-spouse' : 1, 'Widowed' : 0, 'Separated' : 0, 'Divorced' : 0,\n",
        "      'Married-spouse-absent' : 1, 'Married-AF-spouse' : 1}\n",
        "\n",
        "data_frame = data_frame.replace({'marital-status' : ms})"
      ],
      "execution_count": 84,
      "outputs": []
    },
    {
      "cell_type": "markdown",
      "metadata": {
        "id": "YjPoFbeGpJ4f"
      },
      "source": [
        "Нормализуем данные\n",
        "\n"
      ]
    },
    {
      "cell_type": "code",
      "metadata": {
        "id": "0M5OVhUpvaLS"
      },
      "source": [
        "scaler = StandardScaler()\n",
        "X = pd.DataFrame(scaler.fit_transform(data_frame.drop(\"income\", axis=1)))\n",
        "y = data_frame[\"income\"]"
      ],
      "execution_count": 88,
      "outputs": []
    },
    {
      "cell_type": "markdown",
      "metadata": {
        "id": "gAE_2usJyfuD"
      },
      "source": [
        "Разобьем на обучающую и тестовую"
      ]
    },
    {
      "cell_type": "code",
      "metadata": {
        "id": "0DPBmwFIpRwy"
      },
      "source": [
        "X_train, X_test, y_train, y_test = train_test_split(X, y, test_size=0.2, random_state=0)"
      ],
      "execution_count": 90,
      "outputs": []
    },
    {
      "cell_type": "markdown",
      "metadata": {
        "id": "YTn7ODtTpWge"
      },
      "source": [
        "\n",
        "Добавим  функцию для оценки качества предсказания."
      ]
    },
    {
      "cell_type": "code",
      "metadata": {
        "id": "TIPwXwzDpV-K"
      },
      "source": [
        "def score_prediction(y_pred, y_test):\n",
        "    print(\"confusion matrix:\\n\", confusion_matrix(y_test, y_pred))\n",
        "    print(\"accuracy:\", accuracy_score(y_test, y_pred))\n",
        "    print(\"precision:\", precision_score(y_test, y_pred))\n",
        "    print(\"recall:\", recall_score(y_test, y_pred))\n",
        "    print(\"f1_score\", f1_score(y_test, y_pred))\n",
        "    \n"
      ],
      "execution_count": 91,
      "outputs": []
    },
    {
      "cell_type": "markdown",
      "metadata": {
        "id": "xV61zJGjpd1y"
      },
      "source": [
        "Добавим сигмоиду которая необходима для реализации логистической регрессии."
      ]
    },
    {
      "cell_type": "code",
      "metadata": {
        "id": "sqpZl-bIph-j"
      },
      "source": [
        "def sigmoid(z):\n",
        "    return 1 / (1 + np.exp(-z))"
      ],
      "execution_count": 92,
      "outputs": []
    },
    {
      "cell_type": "markdown",
      "metadata": {
        "id": "7MoqSQqopmud"
      },
      "source": [
        "**Логистическая регрессия**"
      ]
    },
    {
      "cell_type": "code",
      "metadata": {
        "id": "rYXXQZ72plYL"
      },
      "source": [
        "class MyLogisticRegression:\n",
        "    def __init__(self, lr, max_iter = 10000):\n",
        "        self.max_iter = max_iter\n",
        "        self.lr = lr\n",
        "\n",
        "    def fit(self, X, y):\n",
        "        X = X.to_numpy()\n",
        "        y = y.to_numpy()\n",
        "        X = np.hstack((np.full((X.shape[0], 1), 1),X))\n",
        "        weights = np.random.rand(X.shape[1])\n",
        "        for i in range(self.max_iter):\n",
        "            old_weights = weights.copy()\n",
        "            weights -= self.lr * np.dot(X.T, sigmoid(np.dot(X, weights)) - y) / len(X)\n",
        "        self.weights = weights\n",
        "\n",
        "    def predict(self, X):\n",
        "        X = X.to_numpy()\n",
        "        X = np.hstack((np.full((X.shape[0], 1), 1), X))\n",
        "        labels = []\n",
        "        for row in X:\n",
        "            labels.append(int(sigmoid(np.dot(row, self.weights)) > 0.5))\n",
        "        return labels"
      ],
      "execution_count": 93,
      "outputs": []
    },
    {
      "cell_type": "code",
      "metadata": {
        "colab": {
          "base_uri": "https://localhost:8080/"
        },
        "id": "XwoiXCcyppQR",
        "outputId": "38d427d6-24fc-4970-ebe6-5d666aecd698"
      },
      "source": [
        "model = LogisticRegression(max_iter=10000)\n",
        "model.fit(X_train,y_train)\n",
        "print(\"Sklearn implementation accuracy {}\".format(accuracy_score(model.predict(X_test), y_test)))"
      ],
      "execution_count": 94,
      "outputs": [
        {
          "output_type": "stream",
          "name": "stdout",
          "text": [
            "Sklearn implementation accuracy 0.837410071942446\n"
          ]
        }
      ]
    },
    {
      "cell_type": "code",
      "metadata": {
        "colab": {
          "base_uri": "https://localhost:8080/"
        },
        "id": "M3ol48t4p0vf",
        "outputId": "46a9d10c-f1a6-4d09-ab66-b14660feadbc"
      },
      "source": [
        "max_accuracy = 0\n",
        "max_params = (0,0)\n",
        "y_pred_max = 0\n",
        "for lr, max_iter in [(0.1, 100), (0.01, 100), (0.1, 1000), (0.01, 1000), (0.1, 10000), (0.01, 10000)]:\n",
        "    model = MyLogisticRegression(lr=lr, max_iter=max_iter)\n",
        "    model.fit(X_train,y_train)\n",
        "    y_pred = model.predict(X_test)\n",
        "    acc = accuracy_score(y_pred, y_test)\n",
        "    if acc > max_accuracy:\n",
        "        max_params = (lr, max_iter)\n",
        "        max_accuracy = acc\n",
        "        y_pred_max = y_pred\n",
        "print(\"My implementation: max accuracy with learning rate = {} and max iterations = {}\"\n",
        "      .format(*max_params))\n",
        "score_prediction(y_pred_max, y_test)"
      ],
      "execution_count": 95,
      "outputs": [
        {
          "output_type": "stream",
          "name": "stdout",
          "text": [
            "My implementation: max accuracy with learning rate = 0.1 and max iterations = 10000\n",
            "confusion matrix:\n",
            " [[6304  504]\n",
            " [ 965 1262]]\n",
            "accuracy: 0.837410071942446\n",
            "precision: 0.7146092865232163\n",
            "recall: 0.5666816344858554\n",
            "f1_score 0.6321061858251941\n"
          ]
        }
      ]
    },
    {
      "cell_type": "markdown",
      "metadata": {
        "id": "HT8nA0VMz7Lj"
      },
      "source": [
        "**Дерево решений**"
      ]
    },
    {
      "cell_type": "code",
      "metadata": {
        "id": "yRpde3IyqhDc"
      },
      "source": [
        "class Node:\n",
        "    def __init__(self, predicted_class):\n",
        "        self.predicted_class = predicted_class\n",
        "        self.feature_index = 0\n",
        "        self.threshold = 0\n",
        "        self.left = None\n",
        "        self.right = None\n",
        "\n",
        "\n",
        "class MyDecisionTreeClassifier:\n",
        "    def __init__(self, max_depth=None):\n",
        "        self.max_depth = max_depth\n",
        "\n",
        "    def fit(self, X, y):\n",
        "        X = X.to_numpy()\n",
        "        y = y.to_numpy()\n",
        "        self.n_classes_ = len(set(y))\n",
        "        self.n_features_ = X.shape[1]\n",
        "        self.tree_ = self._grow_tree(X, y)\n",
        "\n",
        "    def predict(self, X):\n",
        "        X = X.to_numpy()\n",
        "        return [self._predict(inputs) for inputs in X]\n",
        "\n",
        "    def _best_split(self, X, y):\n",
        "        m = y.size\n",
        "        if m <= 1:\n",
        "            return None, None\n",
        "        num_parent = [np.sum(y == c) for c in range(self.n_classes_)]\n",
        "        best_gini = 1.0 - sum((n / m) ** 2 for n in num_parent)\n",
        "        best_idx, best_thr = None, None\n",
        "        for idx in range(self.n_features_):\n",
        "            thresholds, classes = zip(*sorted(zip(X[:, idx], y)))\n",
        "            num_left = [0] * self.n_classes_\n",
        "            num_right = num_parent.copy()\n",
        "            for i in range(1, m):\n",
        "                c = classes[i - 1]\n",
        "                num_left[c] += 1\n",
        "                num_right[c] -= 1\n",
        "                gini_left = 1.0 - sum(\n",
        "                    (num_left[x] / i) ** 2 for x in range(self.n_classes_)\n",
        "                )\n",
        "                gini_right = 1.0 - sum(\n",
        "                    (num_right[x] / (m - i)) ** 2 for x in range(self.n_classes_)\n",
        "                )\n",
        "                gini = (i * gini_left + (m - i) * gini_right) / m\n",
        "                if thresholds[i] == thresholds[i - 1]:\n",
        "                    continue\n",
        "                if gini < best_gini:\n",
        "                    best_gini = gini\n",
        "                    best_idx = idx\n",
        "                    best_thr = (thresholds[i] + thresholds[i - 1]) / 2\n",
        "        return best_idx, best_thr\n",
        "\n",
        "    def _grow_tree(self, X, y, depth=0):\n",
        "        num_samples_per_class = [np.sum(y == i) for i in range(self.n_classes_)]\n",
        "        predicted_class = np.argmax(num_samples_per_class)\n",
        "        node = Node(predicted_class=predicted_class)\n",
        "        if depth < self.max_depth:\n",
        "            idx, thr = self._best_split(X, y)\n",
        "            if idx is not None:\n",
        "                indices_left = X[:, idx] < thr\n",
        "                X_left, y_left = X[indices_left], y[indices_left]\n",
        "                X_right, y_right = X[~indices_left], y[~indices_left]\n",
        "                node.feature_index = idx\n",
        "                node.threshold = thr\n",
        "                node.left = self._grow_tree(X_left, y_left, depth + 1)\n",
        "                node.right = self._grow_tree(X_right, y_right, depth + 1)\n",
        "        return node\n",
        "\n",
        "    def _predict(self, inputs):\n",
        "        node = self.tree_\n",
        "        while node.left:\n",
        "            if inputs[node.feature_index] < node.threshold:\n",
        "                node = node.left\n",
        "            else:\n",
        "                node = node.right\n",
        "        return node.predicted_class"
      ],
      "execution_count": 81,
      "outputs": []
    },
    {
      "cell_type": "code",
      "metadata": {
        "colab": {
          "base_uri": "https://localhost:8080/"
        },
        "id": "qxpZrD71qjED",
        "outputId": "97f5f568-808a-419f-b033-79dbec63523a"
      },
      "source": [
        "model = DecisionTreeClassifier()\n",
        "model.fit(X_train, y_train)\n",
        "y_pred = model.predict(X_test)\n",
        "print(\"Sklearn decision tree accuracy {}\".format(accuracy_score(y_test, y_pred)))\n",
        "\n",
        "model = MyDecisionTreeClassifier(max_depth=10)\n",
        "model.fit(X_train, y_train)\n",
        "y_pred = model.predict(X_test)\n",
        "print(\"My implementation score:\")\n",
        "score_prediction(y_pred, y_test)"
      ],
      "execution_count": 96,
      "outputs": [
        {
          "output_type": "stream",
          "name": "stdout",
          "text": [
            "Sklearn decision tree accuracy 0.8235749861649142\n",
            "My implementation score:\n",
            "confusion matrix:\n",
            " [[6470  338]\n",
            " [1015 1212]]\n",
            "accuracy: 0.8502490315439956\n",
            "precision: 0.7819354838709678\n",
            "recall: 0.5442299057027391\n",
            "f1_score 0.6417791898332009\n"
          ]
        }
      ]
    },
    {
      "cell_type": "markdown",
      "metadata": {
        "id": "7W1h_FO60J_d"
      },
      "source": [
        "**Метод опорных векторов**"
      ]
    },
    {
      "cell_type": "code",
      "metadata": {
        "id": "ryay5KKhqtH8"
      },
      "source": [
        "class MySVM:\n",
        "    def __init__(self, lr, lambda_, iters):\n",
        "        self.lr = lr\n",
        "        self.lambda_ = lambda_\n",
        "        self.iters = iters\n",
        "\n",
        "    def fit(self, X, y):\n",
        "        X = X.to_numpy()\n",
        "        y = y.to_numpy()\n",
        "        n = X.shape[0]\n",
        "        self.W = np.zeros(X.shape[1])\n",
        "        self.b = 0\n",
        "        y_ = np.where(y <= 0, -1, 1)\n",
        "\n",
        "        for i in range(self.iters):\n",
        "            for j, x in enumerate(X):\n",
        "                if y_[j] * ((x @ self.W) - self.b) >= 1:\n",
        "                    self.W -= self.lr * (2 * self.lambda_ * self.W)\n",
        "                else:\n",
        "                    self.W -= self.lr * (2 * self.lambda_ * self.W - np.dot(x,y_[j]))\n",
        "                    self.b -= self.lr * y_[j]\n",
        "\n",
        "    def predict(self, X):\n",
        "        X = X.to_numpy()\n",
        "        res = np.dot(X, self.W) - self.b\n",
        "        y_pred = np.where(res >= 0, 1, 0)\n",
        "        return y_pred"
      ],
      "execution_count": 97,
      "outputs": []
    },
    {
      "cell_type": "code",
      "metadata": {
        "colab": {
          "base_uri": "https://localhost:8080/"
        },
        "id": "bg7-L6Lrqver",
        "outputId": "d1d6d2be-3208-4dad-cb7e-48e6db19b466"
      },
      "source": [
        "model = SVC()\n",
        "model.fit(X_train, y_train)\n",
        "print(\"Sklearn SVM accuracy {}\".format(accuracy_score(model.predict(X_test), y_test)))"
      ],
      "execution_count": 98,
      "outputs": [
        {
          "output_type": "stream",
          "name": "stdout",
          "text": [
            "Sklearn SVM accuracy 0.8470392916436081\n"
          ]
        }
      ]
    },
    {
      "cell_type": "code",
      "metadata": {
        "colab": {
          "base_uri": "https://localhost:8080/"
        },
        "id": "DOEk9ec5q2lx",
        "outputId": "68a19ed7-39be-4b76-ceac-0df42b5a7410"
      },
      "source": [
        "max_acc = 0\n",
        "max_params = (0,0,0)\n",
        "y_pred = 0\n",
        "for lr_lambda_iters in [(0.1, 0.1, 10), (0.001, 0.001, 10), (0.001, 0.001, 100)]:\n",
        "    lr, lambda_, iters = lr_lambda_iters\n",
        "    model = MySVM(lr=lr, lambda_=lambda_, iters=iters)\n",
        "    model.fit(X_train, y_train)\n",
        "    y_pred_cur = model.predict(X_test)\n",
        "    acc = accuracy_score(y_pred_cur, y_test)\n",
        "    if acc > max_acc:\n",
        "        max_acc = acc\n",
        "        y_pred = y_pred_cur\n",
        "        max_params = lr_lambda_iters\n",
        "print(\"Params with max accuracy lr = {}, lambda = {}, iters = {}\".format(*max_params))\n",
        "score_prediction(y_pred, y_test)"
      ],
      "execution_count": 103,
      "outputs": [
        {
          "output_type": "stream",
          "name": "stdout",
          "text": [
            "Params with max accuracy lr = 0.001, lambda = 0.001, iters = 100\n",
            "confusion matrix:\n",
            " [[6308  500]\n",
            " [ 963 1264]]\n",
            "accuracy: 0.8380741560597675\n",
            "precision: 0.7165532879818595\n",
            "recall: 0.56757970363718\n",
            "f1_score 0.633425206715109\n"
          ]
        }
      ]
    }
  ]
}